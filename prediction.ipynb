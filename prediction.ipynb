{
 "cells": [
  {
   "cell_type": "code",
   "execution_count": 29,
   "metadata": {},
   "outputs": [],
   "source": [
    "# -*- coding:utf-8 -*-\n",
    "import csv\n",
    "import numpy as np\n",
    "import pandas as pd\n",
    "from sklearn.model_selection import train_test_split\n",
    "from sklearn.linear_model import LinearRegression,Ridge\n"
   ]
  },
  {
   "cell_type": "code",
   "execution_count": 26,
   "metadata": {},
   "outputs": [
    {
     "name": "stdout",
     "output_type": "stream",
     "text": [
      "   year   x   x2  Sales\n",
      "0  2011  11  121     52\n",
      "1  2012  12  144    191\n",
      "2  2013  13  169    350\n",
      "3  2014  14  196    571\n",
      "4  2015  15  225    912\n",
      "5  2016  16  256   1207\n",
      "6  2017  17  289   1682\n",
      "7  2018  18  324   2135\n"
     ]
    }
   ],
   "source": [
    "path='./data.csv'\n",
    "data = pd.read_csv(path)    #读取数据\n",
    "print(data.head(10))\n",
    "x = data[['x', 'x2']]\n",
    "y = data['Sales']"
   ]
  },
  {
   "cell_type": "code",
   "execution_count": 27,
   "metadata": {},
   "outputs": [
    {
     "name": "stdout",
     "output_type": "stream",
     "text": [
      "<class 'pandas.core.frame.DataFrame'>\n",
      "(7, 2) (7,)\n",
      "LinearRegression(copy_X=True, fit_intercept=True, n_jobs=1, normalize=False)\n",
      "[-619.57142857   31.52380952] 3081.4761904761936\n",
      "11 80.57142857142753\n",
      "12 186.04761904761835\n",
      "13 354.57142857142844\n",
      "14 586.142857142856\n",
      "15 880.7619047619046\n",
      "16 1238.4285714285716\n",
      "17 1659.1428571428578\n",
      "18 2142.904761904764\n"
     ]
    },
    {
     "name": "stderr",
     "output_type": "stream",
     "text": [
      "/anaconda3/lib/python3.6/site-packages/sklearn/model_selection/_split.py:2026: FutureWarning: From version 0.21, test_size will always complement train_size unless both are specified.\n",
      "  FutureWarning)\n"
     ]
    }
   ],
   "source": [
    "x_train, x_test, y_train, y_test = train_test_split(x, y, train_size=0.9)\n",
    "print(type(x_test))\n",
    "print(x_train.shape, y_train.shape)#.shape读取矩阵的长度，若设置参数，shape[0]读取第一维的长度\n",
    "linreg = LinearRegression()#线性回归\n",
    "model = linreg.fit(x_train, y_train)#训练\n",
    "print(model)\n",
    "print(linreg.coef_, linreg.intercept_)#打印参数，#回归系数  #截距\n",
    "\n",
    "for i in range(11,19):\n",
    "    y=linreg.coef_[1]*i*i+linreg.coef_[0]*i+linreg.intercept_\n",
    "    print(i,y)"
   ]
  },
  {
   "cell_type": "code",
   "execution_count": 15,
   "metadata": {},
   "outputs": [
    {
     "name": "stdout",
     "output_type": "stream",
     "text": [
      "MSE =  514.2774400655994\n",
      "RMSE =  22.67768595041389\n",
      "R2 =  0.999282023081571\n",
      "R2 =  0.0\n"
     ]
    }
   ],
   "source": [
    "order = y_test.argsort(axis=0)\n",
    "y_test = y_test.values[order]\n",
    "x_test = x_test.values[order, :]\n",
    "y_hat = linreg.predict(x_test)\n",
    "\n",
    "\n",
    "mse = np.average((y_hat - np.array(y_test)) ** 2)  # Mean Squared Error均方差\n",
    "rmse = np.sqrt(mse)  # Root Mean Squared Error\n",
    "print('MSE = ', mse)\n",
    "print('RMSE = ', rmse)\n",
    "print('R2 = ', linreg.score(x_train, y_train))\n",
    "print('R2 = ', linreg.score(x_test, y_test))\n",
    "\n"
   ]
  },
  {
   "cell_type": "code",
   "execution_count": null,
   "metadata": {},
   "outputs": [],
   "source": []
  }
 ],
 "metadata": {
  "kernelspec": {
   "display_name": "Python [conda root]",
   "language": "python",
   "name": "conda-root-py"
  },
  "language_info": {
   "codemirror_mode": {
    "name": "ipython",
    "version": 3
   },
   "file_extension": ".py",
   "mimetype": "text/x-python",
   "name": "python",
   "nbconvert_exporter": "python",
   "pygments_lexer": "ipython3",
   "version": "3.6.5"
  }
 },
 "nbformat": 4,
 "nbformat_minor": 2
}
